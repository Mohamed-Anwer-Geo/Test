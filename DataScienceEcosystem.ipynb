{
 "cells": [
  {
   "cell_type": "markdown",
   "id": "17861764-859c-4550-b6f1-561d0474d5c6",
   "metadata": {},
   "source": [
    "# Data Science Tools and Ecosystem\n",
    "-Data Science Tools and Ecosystem-"
   ]
  },
  {
   "cell_type": "markdown",
   "id": "02904a20-a36d-4d94-9172-abaa793c339e",
   "metadata": {},
   "source": [
    "# In this notebook, Data Science Tools and Ecosystem are summarized.\n",
    "-In this notebook, Data Science Tools and Ecosystem are summarized.-\n"
   ]
  },
  {
   "cell_type": "markdown",
   "id": "3a84e73d-1a22-4b32-b42f-212573ba0576",
   "metadata": {},
   "source": [
    "# Some of the popular languages that Data Scientists use are:\n",
    "\n",
    "1. Python\n",
    "2. R\n",
    "3. SQL\n",
    "\n",
    "\n",
    "\n",
    "\n",
    "\n"
   ]
  },
  {
   "cell_type": "markdown",
   "id": "6b155853-b8df-41e8-a6b1-9f6ca8b686d2",
   "metadata": {},
   "source": [
    "#Some of the commonly used libraries used by Data Scientists include:\n",
    "\n",
    "1. NumPy\n",
    "2. pandas\n",
    "3. scikit-learn\n",
    "4. matplotlib\n",
    "\n"
   ]
  },
  {
   "cell_type": "markdown",
   "id": "2d85ce20-b169-4b7f-9eb0-ad2eed199e37",
   "metadata": {},
   "source": [
    "-The subsequent three rows in the table should indicate three development environment open source tools used in data science-\n",
    "| Data Science Tools       |\n",
    "|--------------------------|\n",
    "| Jupyter Notebook         |\n",
    "| RStudio                  |\n",
    "| Spyder                   |\n"
   ]
  },
  {
   "cell_type": "markdown",
   "id": "9b0d51d8-45d7-44a7-b9c4-9e0c371f3a59",
   "metadata": {},
   "source": [
    "# Arithmetic Expressions in Python\n",
    "\n",
    "---Below are a few examples of evaluating arithmetic expressions in Python---\n",
    "\n",
    "- **Addition:**  \n",
    "  `3 + 5` produces `8`\n",
    "\n",
    "- **Subtraction:**  \n",
    "  `10 - 2` produces `8`\n",
    "\n",
    "- **Multiplication:**  \n",
    "  `4 * 7` produces `28`\n",
    "\n",
    "- **Division:**  \n",
    "  `20 / 4` produces `5.0` \n",
    "\n"
   ]
  },
  {
   "cell_type": "code",
   "execution_count": 16,
   "id": "f1f82e6e-7b80-45ac-84d2-0364106fca66",
   "metadata": {},
   "outputs": [
    {
     "data": {
      "text/plain": [
       "17"
      ]
     },
     "execution_count": 16,
     "metadata": {},
     "output_type": "execute_result"
    }
   ],
   "source": [
    "#This a simple arithmetic expression to mutiply then add integers\n",
    "(3*4)+5"
   ]
  },
  {
   "cell_type": "code",
   "execution_count": 18,
   "id": "b190ad67-3c2e-4ea1-a647-7f8877ba289f",
   "metadata": {},
   "outputs": [
    {
     "data": {
      "text/plain": [
       "3.3333333333333335"
      ]
     },
     "execution_count": 18,
     "metadata": {},
     "output_type": "execute_result"
    }
   ],
   "source": [
    "#This will convert 200 minutes to hours by diving by 60\n",
    "200/60\n"
   ]
  },
  {
   "cell_type": "markdown",
   "id": "f908a154-1559-44d2-a715-be610309dbb7",
   "metadata": {},
   "source": [
    "# Objectives:\n",
    "**Objectives:**\n",
    "\n",
    "- List popular languages for Data Science  \n",
    "- Explore tools for Data Science  \n",
    "- Demonstrate simple arithmetic expressions  \n",
    "- Highlight commonly used libraries by Data Scientists in Jupyter Notebook\n"
   ]
  },
  {
   "cell_type": "markdown",
   "id": "387bb4d2-8444-43cb-9ead-b6a5312d2b24",
   "metadata": {},
   "source": [
    "## Author\n",
    "\n",
    "Mohamed Anwer\n"
   ]
  },
  {
   "cell_type": "code",
   "execution_count": null,
   "id": "bd09a54c-93a0-45b3-8e4d-45b25b7049f7",
   "metadata": {},
   "outputs": [],
   "source": []
  }
 ],
 "metadata": {
  "kernelspec": {
   "display_name": "Python [conda env:base] *",
   "language": "python",
   "name": "conda-base-py"
  },
  "language_info": {
   "codemirror_mode": {
    "name": "ipython",
    "version": 3
   },
   "file_extension": ".py",
   "mimetype": "text/x-python",
   "name": "python",
   "nbconvert_exporter": "python",
   "pygments_lexer": "ipython3",
   "version": "3.12.7"
  }
 },
 "nbformat": 4,
 "nbformat_minor": 5
}
